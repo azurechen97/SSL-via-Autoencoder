{
 "cells": [
  {
   "cell_type": "code",
   "execution_count": 1,
   "metadata": {},
   "outputs": [],
   "source": [
    "import sys\n",
    "datadirs = ''\n",
    "sys.path.insert(1, datadirs)\n",
    "savepath = datadirs+'save/'\n",
    "datapath = datadirs+'data/'"
   ]
  },
  {
   "cell_type": "code",
   "execution_count": 2,
   "metadata": {},
   "outputs": [
    {
     "name": "stdout",
     "output_type": "stream",
     "text": [
      "cuda:0\n"
     ]
    }
   ],
   "source": [
    "import torch\n",
    "device = torch.device(\"cuda:0\" if torch.cuda.is_available() else \"cpu\")\n",
    "print(device)"
   ]
  },
  {
   "cell_type": "code",
   "execution_count": 3,
   "metadata": {},
   "outputs": [
    {
     "name": "stderr",
     "output_type": "stream",
     "text": [
      "Setting up a new session...\n"
     ]
    }
   ],
   "source": [
    "import visdom\n",
    "# python -m visdom.server"
   ]
  },
  {
   "cell_type": "code",
   "execution_count": 4,
   "metadata": {},
   "outputs": [],
   "source": [
    "from pars import PARS"
   ]
  },
  {
   "cell_type": "code",
   "execution_count": 5,
   "metadata": {},
   "outputs": [],
   "source": [
    "import utils\n",
    "from utils import *\n",
    "from setup_net import *\n",
    "from loss import *"
   ]
  },
  {
   "cell_type": "code",
   "execution_count": 6,
   "metadata": {},
   "outputs": [],
   "source": [
    "import importlib\n",
    "importlib.reload(utils)\n",
    "from utils import *"
   ]
  },
  {
   "cell_type": "code",
   "execution_count": 7,
   "metadata": {},
   "outputs": [
    {
     "name": "stdout",
     "output_type": "stream",
     "text": [
      "architecture: CONV6\n",
      "nonlinear: hardtanh\n",
      "batch_size: 500\n",
      "headsize: 64\n",
      "dataset: Cifar100\n",
      "loss: SimCLR\n",
      "OPT: Adam\n",
      "LR: 0.0001\n",
      "epochs: 300\n",
      "clf_dataset: Cifar10\n",
      "clf_loss: CE\n",
      "clf_opt: Adam\n",
      "clf_lr: 0.001\n",
      "clf_epochs: 100\n",
      "repeat: 1\n",
      "device: cuda:0\n",
      "datapath: data/\n",
      "savepath: save/\n",
      "loadnet: None\n",
      "loadclf: None\n",
      "lam: 1\n",
      "auxnonlinear: None\n",
      "\n"
     ]
    }
   ],
   "source": [
    "pars = PARS(device, datapath, savepath)\n",
    "pars.architecture = 'CONV6'\n",
    "pars.LR = 0.0001\n",
    "pars.clf_lr = 0.001\n",
    "pars.epochs = 300\n",
    "pars.clf_epochs = 100\n",
    "pars.nonlinear = 'hardtanh'\n",
    "pars.repeat = 1\n",
    "pars.lam = 1 # proportion of the reconstruction loss\n",
    "print(pars)"
   ]
  },
  {
   "cell_type": "code",
   "execution_count": 9,
   "metadata": {},
   "outputs": [
    {
     "name": "stderr",
     "output_type": "stream",
     "text": [
      "Setting up a new session...\n"
     ]
    },
    {
     "name": "stdout",
     "output_type": "stream",
     "text": [
      "save/CONV6/AE/\n",
      "hardtanh_Cifar100_Adam_LR_0.0001_Epochs_300_CLF_Cifar10_Adam_LR_0.001_Epochs_100_lam_1\n",
      "Files already downloaded and verified\n",
      "Files already downloaded and verified\n",
      "Files already downloaded and verified\n",
      "Files already downloaded and verified\n",
      "\n",
      "Rep 1\n",
      "Sequential(\n",
      "  (layer0): Sequential(\n",
      "    (conv): Conv2d(3, 32, kernel_size=(3, 3), stride=(1, 1), padding=(1, 1))\n",
      "    (activation): Hardtanh(min_val=-1.0, max_val=1.0)\n",
      "  )\n",
      "  (layer1): Sequential(\n",
      "    (conv): Conv2d(32, 32, kernel_size=(3, 3), stride=(1, 1), padding=(1, 1))\n",
      "    (maxpool): MaxPool2d(kernel_size=2, stride=2, padding=0, dilation=1, ceil_mode=False)\n",
      "  )\n",
      "  (layer2): Sequential(\n",
      "    (conv): Conv2d(32, 64, kernel_size=(3, 3), stride=(1, 1), padding=(1, 1))\n",
      "    (activation): Hardtanh(min_val=-1.0, max_val=1.0)\n",
      "  )\n",
      "  (layer3): Sequential(\n",
      "    (conv): Conv2d(64, 64, kernel_size=(3, 3), stride=(1, 1), padding=(1, 1))\n",
      "    (maxpool): MaxPool2d(kernel_size=2, stride=2, padding=0, dilation=1, ceil_mode=False)\n",
      "  )\n",
      "  (layer4): Sequential(\n",
      "    (conv): Conv2d(64, 512, kernel_size=(3, 3), stride=(1, 1), padding=(1, 1))\n",
      "    (maxpool): MaxPool2d(kernel_size=2, stride=2, padding=0, dilation=1, ceil_mode=False)\n",
      "  )\n",
      ")\n",
      "Sequential(\n",
      "  (aux): Sequential(\n",
      "    (0): Flatten(start_dim=1, end_dim=-1)\n",
      "    (fc): Linear(in_features=8192, out_features=10, bias=True)\n",
      "  )\n",
      ")\n",
      "Sequential(\n",
      "  (auxhead): Sequential(\n",
      "    (0): Flatten(start_dim=1, end_dim=-1)\n",
      "    (fc): Linear(in_features=8192, out_features=64, bias=True)\n",
      "  )\n",
      ")\n",
      "Sequential(\n",
      "  (auxdecoder): Sequential(\n",
      "    (fc): Linear(in_features=64, out_features=8192, bias=True)\n",
      "    (unflatten): Unflatten(dim=1, unflattened_size=(8, 32, 32))\n",
      "    (deconv): ConvTranspose2d(8, 3, kernel_size=(3, 3), stride=(1, 1), padding=(1, 1))\n",
      "  )\n",
      ")\n",
      "Sequential()\n",
      "Sequential(\n",
      "  (0): Sequential(\n",
      "    (layer0): Sequential(\n",
      "      (conv): Conv2d(3, 32, kernel_size=(3, 3), stride=(1, 1), padding=(1, 1))\n",
      "      (activation): Hardtanh(min_val=-1.0, max_val=1.0)\n",
      "    )\n",
      "    (layer1): Sequential(\n",
      "      (conv): Conv2d(32, 32, kernel_size=(3, 3), stride=(1, 1), padding=(1, 1))\n",
      "      (maxpool): MaxPool2d(kernel_size=2, stride=2, padding=0, dilation=1, ceil_mode=False)\n",
      "    )\n",
      "    (layer2): Sequential(\n",
      "      (conv): Conv2d(32, 64, kernel_size=(3, 3), stride=(1, 1), padding=(1, 1))\n",
      "      (activation): Hardtanh(min_val=-1.0, max_val=1.0)\n",
      "    )\n",
      "    (layer3): Sequential(\n",
      "      (conv): Conv2d(64, 64, kernel_size=(3, 3), stride=(1, 1), padding=(1, 1))\n",
      "      (maxpool): MaxPool2d(kernel_size=2, stride=2, padding=0, dilation=1, ceil_mode=False)\n",
      "    )\n",
      "    (layer4): Sequential(\n",
      "      (conv): Conv2d(64, 512, kernel_size=(3, 3), stride=(1, 1), padding=(1, 1))\n",
      "      (maxpool): MaxPool2d(kernel_size=2, stride=2, padding=0, dilation=1, ceil_mode=False)\n",
      "    )\n",
      "  )\n",
      "  (1): Sequential(\n",
      "    (auxhead): Sequential(\n",
      "      (0): Flatten(start_dim=1, end_dim=-1)\n",
      "      (fc): Linear(in_features=8192, out_features=64, bias=True)\n",
      "    )\n",
      "  )\n",
      ")\n",
      "Sequential(\n",
      "  (auxdecoder): Sequential(\n",
      "    (fc): Linear(in_features=64, out_features=8192, bias=True)\n",
      "    (unflatten): Unflatten(dim=1, unflattened_size=(8, 32, 32))\n",
      "    (deconv): ConvTranspose2d(8, 3, kernel_size=(3, 3), stride=(1, 1), padding=(1, 1))\n",
      "  )\n",
      ")\n",
      "MSELoss()\n",
      "TwinMSELoss()\n",
      "Adam (\n",
      "Parameter Group 0\n",
      "    amsgrad: False\n",
      "    betas: (0.9, 0.999)\n",
      "    eps: 1e-08\n",
      "    lr: 0.0001\n",
      "    weight_decay: 0\n",
      ")\n",
      "Epoch 0, loss = 0.1026, time: 17.4086\n",
      "reconstruction loss = 0.1026, similarity loss: 0.7729\n",
      "Epoch 1, loss = 0.0387, time: 18.0543\n",
      "reconstruction loss = 0.0387, similarity loss: 0.6855\n",
      "Epoch 2, loss = 0.0316, time: 18.1297\n",
      "reconstruction loss = 0.0316, similarity loss: 0.7722\n",
      "Epoch 3, loss = 0.0264, time: 17.7948\n",
      "reconstruction loss = 0.0264, similarity loss: 0.9258\n",
      "Epoch 4, loss = 0.0265, time: 17.6315\n",
      "reconstruction loss = 0.0265, similarity loss: 0.8910\n",
      "Epoch 5, loss = 0.0245, time: 17.5787\n",
      "reconstruction loss = 0.0245, similarity loss: 0.8636\n",
      "Epoch 6, loss = 0.0197, time: 17.7833\n",
      "reconstruction loss = 0.0197, similarity loss: 1.0410\n",
      "Epoch 7, loss = 0.0182, time: 17.7484\n",
      "reconstruction loss = 0.0182, similarity loss: 0.9626\n",
      "Epoch 8, loss = 0.0172, time: 17.8020\n",
      "reconstruction loss = 0.0172, similarity loss: 1.0287\n",
      "Epoch 9, loss = 0.0159, time: 18.3216\n",
      "reconstruction loss = 0.0159, similarity loss: 1.0275\n",
      "Epoch 10, loss = 0.0137, time: 17.6138\n",
      "reconstruction loss = 0.0137, similarity loss: 1.0478\n",
      "Epoch 11, loss = 0.0131, time: 17.9520\n",
      "reconstruction loss = 0.0131, similarity loss: 1.1553\n",
      "Epoch 12, loss = 0.0116, time: 17.2404\n",
      "reconstruction loss = 0.0116, similarity loss: 1.0797\n",
      "Epoch 13, loss = 0.0110, time: 16.9685\n",
      "reconstruction loss = 0.0110, similarity loss: 1.1205\n",
      "Epoch 14, loss = 0.0108, time: 16.9051\n",
      "reconstruction loss = 0.0108, similarity loss: 1.0574\n",
      "Epoch 15, loss = 0.0109, time: 17.0515\n",
      "reconstruction loss = 0.0109, similarity loss: 0.9996\n",
      "Epoch 16, loss = 0.0098, time: 16.9556\n",
      "reconstruction loss = 0.0098, similarity loss: 1.1095\n",
      "Epoch 17, loss = 0.0102, time: 17.0586\n",
      "reconstruction loss = 0.0102, similarity loss: 1.1365\n",
      "Epoch 18, loss = 0.0092, time: 16.9652\n",
      "reconstruction loss = 0.0092, similarity loss: 1.1686\n",
      "Epoch 19, loss = 0.0089, time: 16.8936\n",
      "reconstruction loss = 0.0089, similarity loss: 1.2290\n",
      "Epoch 20, loss = 0.0090, time: 17.0789\n",
      "reconstruction loss = 0.0090, similarity loss: 1.1329\n",
      "Epoch 21, loss = 0.0083, time: 17.0583\n",
      "reconstruction loss = 0.0083, similarity loss: 1.1456\n",
      "Epoch 22, loss = 0.0085, time: 16.9183\n",
      "reconstruction loss = 0.0085, similarity loss: 1.1570\n",
      "Epoch 23, loss = 0.0078, time: 16.9261\n",
      "reconstruction loss = 0.0078, similarity loss: 1.1561\n",
      "Epoch 24, loss = 0.0076, time: 16.9310\n",
      "reconstruction loss = 0.0076, similarity loss: 1.2517\n",
      "Epoch 25, loss = 0.0078, time: 16.8609\n",
      "reconstruction loss = 0.0078, similarity loss: 1.1284\n",
      "Epoch 26, loss = 0.0078, time: 17.0406\n",
      "reconstruction loss = 0.0078, similarity loss: 1.1884\n",
      "Epoch 27, loss = 0.0068, time: 17.8665\n",
      "reconstruction loss = 0.0068, similarity loss: 1.1507\n",
      "Epoch 28, loss = 0.0070, time: 17.1877\n",
      "reconstruction loss = 0.0070, similarity loss: 1.0989\n",
      "Epoch 29, loss = 0.0073, time: 17.0141\n",
      "reconstruction loss = 0.0073, similarity loss: 1.1809\n",
      "Epoch 30, loss = 0.0072, time: 17.4930\n",
      "reconstruction loss = 0.0072, similarity loss: 1.2014\n",
      "Epoch 31, loss = 0.0065, time: 17.4317\n",
      "reconstruction loss = 0.0065, similarity loss: 1.0847\n",
      "Epoch 32, loss = 0.0069, time: 17.2760\n",
      "reconstruction loss = 0.0069, similarity loss: 1.1284\n",
      "Epoch 33, loss = 0.0066, time: 17.8756\n",
      "reconstruction loss = 0.0066, similarity loss: 1.1024\n",
      "Epoch 34, loss = 0.0072, time: 17.7807\n",
      "reconstruction loss = 0.0072, similarity loss: 1.1749\n",
      "Epoch 35, loss = 0.0060, time: 17.8564\n",
      "reconstruction loss = 0.0060, similarity loss: 1.1460\n",
      "Epoch 36, loss = 0.0064, time: 17.5953\n",
      "reconstruction loss = 0.0064, similarity loss: 1.1646\n",
      "Epoch 37, loss = 0.0061, time: 18.1087\n",
      "reconstruction loss = 0.0061, similarity loss: 1.1953\n",
      "Epoch 38, loss = 0.0060, time: 17.4889\n",
      "reconstruction loss = 0.0060, similarity loss: 1.1113\n",
      "Epoch 39, loss = 0.0056, time: 18.0325\n",
      "reconstruction loss = 0.0056, similarity loss: 1.1554\n",
      "Epoch 40, loss = 0.0060, time: 17.4161\n",
      "reconstruction loss = 0.0060, similarity loss: 1.1445\n",
      "Epoch 41, loss = 0.0060, time: 17.4399\n",
      "reconstruction loss = 0.0060, similarity loss: 1.1503\n",
      "Epoch 42, loss = 0.0057, time: 17.4204\n",
      "reconstruction loss = 0.0057, similarity loss: 1.2675\n",
      "Epoch 43, loss = 0.0057, time: 17.7446\n",
      "reconstruction loss = 0.0057, similarity loss: 1.0935\n",
      "Epoch 44, loss = 0.0055, time: 17.8980\n",
      "reconstruction loss = 0.0055, similarity loss: 1.2133\n",
      "Epoch 45, loss = 0.0060, time: 17.4039\n",
      "reconstruction loss = 0.0060, similarity loss: 1.1068\n",
      "Epoch 46, loss = 0.0049, time: 17.2495\n",
      "reconstruction loss = 0.0049, similarity loss: 1.2320\n",
      "Epoch 47, loss = 0.0054, time: 17.9097\n",
      "reconstruction loss = 0.0054, similarity loss: 1.1337\n",
      "Epoch 48, loss = 0.0051, time: 17.2213\n",
      "reconstruction loss = 0.0051, similarity loss: 1.1724\n",
      "Epoch 49, loss = 0.0049, time: 17.9889\n",
      "reconstruction loss = 0.0049, similarity loss: 1.2415\n",
      "Epoch 50, loss = 0.0058, time: 17.7226\n",
      "reconstruction loss = 0.0058, similarity loss: 1.2755\n",
      "Epoch 51, loss = 0.0049, time: 17.9368\n",
      "reconstruction loss = 0.0049, similarity loss: 1.1263\n",
      "Epoch 52, loss = 0.0050, time: 17.5154\n",
      "reconstruction loss = 0.0050, similarity loss: 1.0659\n",
      "Epoch 53, loss = 0.0047, time: 16.9878\n",
      "reconstruction loss = 0.0047, similarity loss: 1.1215\n",
      "Epoch 54, loss = 0.0052, time: 17.8590\n",
      "reconstruction loss = 0.0052, similarity loss: 1.1254\n",
      "Epoch 55, loss = 0.0049, time: 17.0295\n",
      "reconstruction loss = 0.0049, similarity loss: 1.2804\n"
     ]
    },
    {
     "ename": "KeyboardInterrupt",
     "evalue": "",
     "output_type": "error",
     "traceback": [
      "\u001b[1;31m---------------------------------------------------------------------------\u001b[0m",
      "\u001b[1;31mKeyboardInterrupt\u001b[0m                         Traceback (most recent call last)",
      "\u001b[1;32m~\\AppData\\Local\\Temp/ipykernel_30708/2217661643.py\u001b[0m in \u001b[0;36m<module>\u001b[1;34m\u001b[0m\n\u001b[0;32m      1\u001b[0m \u001b[0mvis\u001b[0m \u001b[1;33m=\u001b[0m \u001b[0mvisdom\u001b[0m\u001b[1;33m.\u001b[0m\u001b[0mVisdom\u001b[0m\u001b[1;33m(\u001b[0m\u001b[0mport\u001b[0m\u001b[1;33m=\u001b[0m\u001b[1;36m8097\u001b[0m\u001b[1;33m,\u001b[0m\u001b[0menv\u001b[0m\u001b[1;33m=\u001b[0m\u001b[1;34m'lam_1'\u001b[0m\u001b[1;33m)\u001b[0m\u001b[1;33m\u001b[0m\u001b[1;33m\u001b[0m\u001b[0m\n\u001b[1;32m----> 2\u001b[1;33m \u001b[0mtrain_unsupervised_ae\u001b[0m\u001b[1;33m(\u001b[0m\u001b[0mpars\u001b[0m\u001b[1;33m,\u001b[0m\u001b[0mvis\u001b[0m\u001b[1;33m=\u001b[0m\u001b[0mvis\u001b[0m\u001b[1;33m)\u001b[0m\u001b[1;33m\u001b[0m\u001b[1;33m\u001b[0m\u001b[0m\n\u001b[0m",
      "\u001b[1;32md:\\UCHI\\unsupervised\\utils.py\u001b[0m in \u001b[0;36mtrain_unsupervised_ae\u001b[1;34m(pars, criterion_re, criterion_sim, clf_criterion, optimizer, vis, print_image)\u001b[0m\n\u001b[0;32m    451\u001b[0m             \u001b[0mnet\u001b[0m\u001b[1;33m,\u001b[0m\u001b[1;33m\u001b[0m\u001b[1;33m\u001b[0m\u001b[0m\n\u001b[0;32m    452\u001b[0m             head)\n\u001b[1;32m--> 453\u001b[1;33m         \u001b[0mpars\u001b[0m\u001b[1;33m.\u001b[0m\u001b[0mtrain_unsupervised\u001b[0m \u001b[1;33m=\u001b[0m \u001b[1;32mTrue\u001b[0m\u001b[1;33m\u001b[0m\u001b[1;33m\u001b[0m\u001b[0m\n\u001b[0m\u001b[0;32m    454\u001b[0m \u001b[1;33m\u001b[0m\u001b[0m\n\u001b[0;32m    455\u001b[0m         \u001b[0mtrain_model_ae\u001b[0m\u001b[1;33m(\u001b[0m\u001b[0mdata\u001b[0m\u001b[1;33m,\u001b[0m \u001b[0mfix\u001b[0m\u001b[1;33m,\u001b[0m \u001b[0mmodel\u001b[0m\u001b[1;33m,\u001b[0m \u001b[0mdecoder\u001b[0m\u001b[1;33m,\u001b[0m \u001b[0mpars\u001b[0m\u001b[1;33m,\u001b[0m \u001b[0mhead_loss\u001b[0m\u001b[1;33m,\u001b[0m \u001b[0mcriterion_re\u001b[0m\u001b[1;33m,\u001b[0m \u001b[0mcriterion_sim\u001b[0m\u001b[1;33m,\u001b[0m \u001b[0moptimizer\u001b[0m\u001b[1;33m,\u001b[0m \u001b[0mvis\u001b[0m\u001b[1;33m,\u001b[0m \u001b[0mprint_image\u001b[0m\u001b[1;33m)\u001b[0m\u001b[1;33m\u001b[0m\u001b[1;33m\u001b[0m\u001b[0m\n",
      "\u001b[1;32md:\\UCHI\\unsupervised\\utils.py\u001b[0m in \u001b[0;36mtrain_model_ae\u001b[1;34m(data, fix, model, decoder, pars, ep_loss, criterion_re, criterion_sim, optimizer, vis, print_image)\u001b[0m\n\u001b[0;32m    252\u001b[0m                 \u001b[0mrunning_loss_sim\u001b[0m \u001b[1;33m+=\u001b[0m \u001b[0mloss_sim\u001b[0m\u001b[1;33m.\u001b[0m\u001b[0mitem\u001b[0m\u001b[1;33m(\u001b[0m\u001b[1;33m)\u001b[0m\u001b[1;33m\u001b[0m\u001b[1;33m\u001b[0m\u001b[0m\n\u001b[0;32m    253\u001b[0m                 \u001b[0moptimizer\u001b[0m\u001b[1;33m.\u001b[0m\u001b[0mzero_grad\u001b[0m\u001b[1;33m(\u001b[0m\u001b[1;33m)\u001b[0m\u001b[1;33m\u001b[0m\u001b[1;33m\u001b[0m\u001b[0m\n\u001b[1;32m--> 254\u001b[1;33m                 \u001b[0mloss\u001b[0m\u001b[1;33m.\u001b[0m\u001b[0mbackward\u001b[0m\u001b[1;33m(\u001b[0m\u001b[1;33m)\u001b[0m\u001b[1;33m\u001b[0m\u001b[1;33m\u001b[0m\u001b[0m\n\u001b[0m\u001b[0;32m    255\u001b[0m                 \u001b[0moptimizer\u001b[0m\u001b[1;33m.\u001b[0m\u001b[0mstep\u001b[0m\u001b[1;33m(\u001b[0m\u001b[1;33m)\u001b[0m\u001b[1;33m\u001b[0m\u001b[1;33m\u001b[0m\u001b[0m\n\u001b[0;32m    256\u001b[0m \u001b[1;33m\u001b[0m\u001b[0m\n",
      "\u001b[1;32mD:\\anaconda3\\envs\\pytorch\\lib\\site-packages\\torch\\_tensor.py\u001b[0m in \u001b[0;36mbackward\u001b[1;34m(self, gradient, retain_graph, create_graph, inputs)\u001b[0m\n\u001b[0;32m    305\u001b[0m                 \u001b[0mcreate_graph\u001b[0m\u001b[1;33m=\u001b[0m\u001b[0mcreate_graph\u001b[0m\u001b[1;33m,\u001b[0m\u001b[1;33m\u001b[0m\u001b[1;33m\u001b[0m\u001b[0m\n\u001b[0;32m    306\u001b[0m                 inputs=inputs)\n\u001b[1;32m--> 307\u001b[1;33m         \u001b[0mtorch\u001b[0m\u001b[1;33m.\u001b[0m\u001b[0mautograd\u001b[0m\u001b[1;33m.\u001b[0m\u001b[0mbackward\u001b[0m\u001b[1;33m(\u001b[0m\u001b[0mself\u001b[0m\u001b[1;33m,\u001b[0m \u001b[0mgradient\u001b[0m\u001b[1;33m,\u001b[0m \u001b[0mretain_graph\u001b[0m\u001b[1;33m,\u001b[0m \u001b[0mcreate_graph\u001b[0m\u001b[1;33m,\u001b[0m \u001b[0minputs\u001b[0m\u001b[1;33m=\u001b[0m\u001b[0minputs\u001b[0m\u001b[1;33m)\u001b[0m\u001b[1;33m\u001b[0m\u001b[1;33m\u001b[0m\u001b[0m\n\u001b[0m\u001b[0;32m    308\u001b[0m \u001b[1;33m\u001b[0m\u001b[0m\n\u001b[0;32m    309\u001b[0m     \u001b[1;32mdef\u001b[0m \u001b[0mregister_hook\u001b[0m\u001b[1;33m(\u001b[0m\u001b[0mself\u001b[0m\u001b[1;33m,\u001b[0m \u001b[0mhook\u001b[0m\u001b[1;33m)\u001b[0m\u001b[1;33m:\u001b[0m\u001b[1;33m\u001b[0m\u001b[1;33m\u001b[0m\u001b[0m\n",
      "\u001b[1;32mD:\\anaconda3\\envs\\pytorch\\lib\\site-packages\\torch\\autograd\\__init__.py\u001b[0m in \u001b[0;36mbackward\u001b[1;34m(tensors, grad_tensors, retain_graph, create_graph, grad_variables, inputs)\u001b[0m\n\u001b[0;32m    152\u001b[0m         \u001b[0mretain_graph\u001b[0m \u001b[1;33m=\u001b[0m \u001b[0mcreate_graph\u001b[0m\u001b[1;33m\u001b[0m\u001b[1;33m\u001b[0m\u001b[0m\n\u001b[0;32m    153\u001b[0m \u001b[1;33m\u001b[0m\u001b[0m\n\u001b[1;32m--> 154\u001b[1;33m     Variable._execution_engine.run_backward(\n\u001b[0m\u001b[0;32m    155\u001b[0m         \u001b[0mtensors\u001b[0m\u001b[1;33m,\u001b[0m \u001b[0mgrad_tensors_\u001b[0m\u001b[1;33m,\u001b[0m \u001b[0mretain_graph\u001b[0m\u001b[1;33m,\u001b[0m \u001b[0mcreate_graph\u001b[0m\u001b[1;33m,\u001b[0m \u001b[0minputs\u001b[0m\u001b[1;33m,\u001b[0m\u001b[1;33m\u001b[0m\u001b[1;33m\u001b[0m\u001b[0m\n\u001b[0;32m    156\u001b[0m         allow_unreachable=True, accumulate_grad=True)  # allow_unreachable flag\n",
      "\u001b[1;31mKeyboardInterrupt\u001b[0m: "
     ]
    }
   ],
   "source": [
    "vis = visdom.Visdom(port=8097,env='lam_1')\n",
    "train_unsupervised_ae(pars,vis=vis)"
   ]
  },
  {
   "cell_type": "code",
   "execution_count": null,
   "metadata": {},
   "outputs": [],
   "source": [
    "pars = PARS(device, datapath, savepath)\n",
    "pars.architecture = 'CONV6'\n",
    "pars.LR = 0.0001\n",
    "pars.clf_lr = 0.001\n",
    "pars.epochs = 300\n",
    "pars.clf_epochs = 100\n",
    "pars.nonlinear = 'hardtanh'\n",
    "pars.repeat = 1\n",
    "pars.lam = 0\n",
    "print(pars)"
   ]
  },
  {
   "cell_type": "code",
   "execution_count": null,
   "metadata": {},
   "outputs": [],
   "source": [
    "vis = visdom.Visdom(port=8097,env='lam_0')\n",
    "train_unsupervised_ae(pars,vis=vis)"
   ]
  },
  {
   "cell_type": "code",
   "execution_count": null,
   "metadata": {},
   "outputs": [],
   "source": [
    "pars = PARS(device, datapath, savepath)\n",
    "pars.architecture = 'CONV6'\n",
    "pars.LR = 0.0001\n",
    "pars.clf_lr = 0.001\n",
    "pars.epochs = 300\n",
    "pars.clf_epochs = 100\n",
    "pars.nonlinear = 'hardtanh'\n",
    "pars.repeat = 1\n",
    "pars.lam = 0.5\n",
    "print(pars)"
   ]
  },
  {
   "cell_type": "code",
   "execution_count": null,
   "metadata": {},
   "outputs": [],
   "source": [
    "vis = visdom.Visdom(port=8097,env='lam_0_5')\n",
    "train_unsupervised_ae(pars,vis=vis)"
   ]
  },
  {
   "cell_type": "markdown",
   "metadata": {},
   "source": [
    "- average reconstruction loss\n",
    "- reconstruction result\n",
    "- zero weight on BT\n",
    "- lambda from small to large"
   ]
  },
  {
   "cell_type": "code",
   "execution_count": null,
   "metadata": {},
   "outputs": [],
   "source": [
    "pars = PARS(device, datapath, savepath)\n",
    "pars.architecture = 'CONV6'\n",
    "pars.LR = 0.0001\n",
    "pars.clf_lr = 0.001\n",
    "pars.epochs = 300\n",
    "pars.clf_epochs = 100\n",
    "pars.nonlinear = 'hardtanh'\n",
    "pars.repeat = 1\n",
    "pars.loss = \"BarlowTwins\"\n",
    "pars.lam = 0.5\n",
    "print(pars)"
   ]
  },
  {
   "cell_type": "code",
   "execution_count": null,
   "metadata": {},
   "outputs": [],
   "source": [
    "criterion = BarlowTwinsLoss(pars.batch_size, pars.lam, pars.device)\n",
    "train_unsupervised(pars, criterion=criterion, clf_criterion=None, optimizer=None)"
   ]
  }
 ],
 "metadata": {
  "interpreter": {
   "hash": "fd034ed54560f0698c2946b7ca675e493afbd7ee3c0ecf162ae3deac3cf4477b"
  },
  "kernelspec": {
   "display_name": "Python 3.9.7 ('pytorch')",
   "language": "python",
   "name": "python3"
  },
  "language_info": {
   "codemirror_mode": {
    "name": "ipython",
    "version": 3
   },
   "file_extension": ".py",
   "mimetype": "text/x-python",
   "name": "python",
   "nbconvert_exporter": "python",
   "pygments_lexer": "ipython3",
   "version": "3.9.7"
  },
  "orig_nbformat": 4
 },
 "nbformat": 4,
 "nbformat_minor": 2
}
